{
 "cells": [
  {
   "cell_type": "code",
   "execution_count": 2,
   "metadata": {},
   "outputs": [],
   "source": [
    "data= data.frame (\"Usser\"= c(\"john\", \"eric\", \"katrin\", \"marisa\", \"edward\", \"chris\", \"maria\", \"nick\", \"jack\", \"kay\"),\n",
    "                 \"CompletionTime\"= c(65, 24, 45, 34, 63, 74, 45, 34, 54, 72)\n",
    "                 )\n"
   ]
  },
  {
   "cell_type": "code",
   "execution_count": 3,
   "metadata": {},
   "outputs": [
    {
     "data": {
      "text/html": [
       "<table>\n",
       "<thead><tr><th scope=col>Usser</th><th scope=col>CompletionTime</th></tr></thead>\n",
       "<tbody>\n",
       "\t<tr><td>john  </td><td>65    </td></tr>\n",
       "\t<tr><td>eric  </td><td>24    </td></tr>\n",
       "\t<tr><td>katrin</td><td>45    </td></tr>\n",
       "\t<tr><td>marisa</td><td>34    </td></tr>\n",
       "\t<tr><td>edward</td><td>63    </td></tr>\n",
       "\t<tr><td>chris </td><td>74    </td></tr>\n",
       "\t<tr><td>maria </td><td>45    </td></tr>\n",
       "\t<tr><td>nick  </td><td>34    </td></tr>\n",
       "\t<tr><td>jack  </td><td>54    </td></tr>\n",
       "\t<tr><td>kay   </td><td>72    </td></tr>\n",
       "</tbody>\n",
       "</table>\n"
      ],
      "text/latex": [
       "\\begin{tabular}{r|ll}\n",
       " Usser & CompletionTime\\\\\n",
       "\\hline\n",
       "\t john   & 65    \\\\\n",
       "\t eric   & 24    \\\\\n",
       "\t katrin & 45    \\\\\n",
       "\t marisa & 34    \\\\\n",
       "\t edward & 63    \\\\\n",
       "\t chris  & 74    \\\\\n",
       "\t maria  & 45    \\\\\n",
       "\t nick   & 34    \\\\\n",
       "\t jack   & 54    \\\\\n",
       "\t kay    & 72    \\\\\n",
       "\\end{tabular}\n"
      ],
      "text/markdown": [
       "\n",
       "Usser | CompletionTime | \n",
       "|---|---|---|---|---|---|---|---|---|---|\n",
       "| john   | 65     | \n",
       "| eric   | 24     | \n",
       "| katrin | 45     | \n",
       "| marisa | 34     | \n",
       "| edward | 63     | \n",
       "| chris  | 74     | \n",
       "| maria  | 45     | \n",
       "| nick   | 34     | \n",
       "| jack   | 54     | \n",
       "| kay    | 72     | \n",
       "\n",
       "\n"
      ],
      "text/plain": [
       "   Usser  CompletionTime\n",
       "1  john   65            \n",
       "2  eric   24            \n",
       "3  katrin 45            \n",
       "4  marisa 34            \n",
       "5  edward 63            \n",
       "6  chris  74            \n",
       "7  maria  45            \n",
       "8  nick   34            \n",
       "9  jack   54            \n",
       "10 kay    72            "
      ]
     },
     "metadata": {},
     "output_type": "display_data"
    }
   ],
   "source": [
    "data"
   ]
  },
  {
   "cell_type": "code",
   "execution_count": null,
   "metadata": {},
   "outputs": [],
   "source": []
  }
 ],
 "metadata": {
  "kernelspec": {
   "display_name": "R",
   "language": "R",
   "name": "ir"
  },
  "language_info": {
   "codemirror_mode": "r",
   "file_extension": ".r",
   "mimetype": "text/x-r-source",
   "name": "R",
   "pygments_lexer": "r",
   "version": "3.5.1"
  }
 },
 "nbformat": 4,
 "nbformat_minor": 2
}
